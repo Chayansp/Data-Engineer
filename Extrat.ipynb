{
  "nbformat": 4,
  "nbformat_minor": 0,
  "metadata": {
    "colab": {
      "provenance": [],
      "authorship_tag": "ABX9TyPu7BhruaKJXTktIZwgWM7Y",
      "include_colab_link": true
    },
    "kernelspec": {
      "name": "python3",
      "display_name": "Python 3"
    },
    "language_info": {
      "name": "python"
    }
  },
  "cells": [
    {
      "cell_type": "markdown",
      "metadata": {
        "id": "view-in-github",
        "colab_type": "text"
      },
      "source": [
        "<a href=\"https://colab.research.google.com/github/Chayansp/Data-Engineer/blob/main/Extrat.ipynb\" target=\"_parent\"><img src=\"https://colab.research.google.com/assets/colab-badge.svg\" alt=\"Open In Colab\"/></a>"
      ]
    },
    {
      "cell_type": "markdown",
      "source": [
        "# Install PyMySQL"
      ],
      "metadata": {
        "id": "FqK4-0cbJyRm"
      }
    },
    {
      "cell_type": "code",
      "source": [
        "!pip install pymysql"
      ],
      "metadata": {
        "id": "5XrYMfQqKa4t"
      },
      "execution_count": null,
      "outputs": []
    },
    {
      "cell_type": "markdown",
      "source": [],
      "metadata": {
        "id": "1tAmj-JnKojM"
      }
    },
    {
      "cell_type": "code",
      "source": [
        "import os\n",
        "import pymysql"
      ],
      "metadata": {
        "id": "MTDgpf9KLJH-"
      },
      "execution_count": null,
      "outputs": []
    },
    {
      "cell_type": "code",
      "source": [
        "class Config:\n",
        "  MYSQL_HOST = '34.136.184.58'\n",
        "  MYSQL_PORT = 3306             \n",
        "  MYSQL_USER = 'r2de2'\n",
        "  MYSQL_PASSWORD = 'I_Love_Data_Engineer'\n",
        "  MYSQL_DB = 'r2de2'\n",
        "  MYSQL_CHARSET = 'utf8mb4'"
      ],
      "metadata": {
        "id": "u47Oh_yjKg-O"
      },
      "execution_count": null,
      "outputs": []
    }
  ]
}