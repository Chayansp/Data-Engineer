{
  "nbformat": 4,
  "nbformat_minor": 0,
  "metadata": {
    "colab": {
      "provenance": [],
      "authorship_tag": "ABX9TyM+urpxOgBHXVhPf7aUB6xB",
      "include_colab_link": true
    },
    "kernelspec": {
      "name": "python3",
      "display_name": "Python 3"
    },
    "language_info": {
      "name": "python"
    }
  },
  "cells": [
    {
      "cell_type": "markdown",
      "metadata": {
        "id": "view-in-github",
        "colab_type": "text"
      },
      "source": [
        "<a href=\"https://colab.research.google.com/github/Chayansp/Data-Engineer/blob/main/LoadtoBigQuery.ipynb\" target=\"_parent\"><img src=\"https://colab.research.google.com/assets/colab-badge.svg\" alt=\"Open In Colab\"/></a>"
      ]
    },
    {
      "cell_type": "code",
      "source": [
        "#Import Module\n",
        "from airflow.models import DAG\n",
        "from airflow.operators.python import PythonOperator\n",
        "from airflow.providers.mysql.hooks.mysql import MySqlHook\n",
        "from airflow.utils.dates import days_ago\n",
        "import pandas as pd\n",
        "import requests"
      ],
      "metadata": {
        "id": "PD8jV9OUZS5W"
      },
      "execution_count": null,
      "outputs": []
    },
    {
      "cell_type": "code",
      "source": [
        "#Default Arguments\n",
        "default_args={\n",
        "        \"owner\": \"DataTH\",\n",
        "        \"start_date\": datetime(2015, 12, 1),\n",
        "        \"email\": [\"airflow@example.com\"],\n",
        "        \"email_on_failure\": False,\n",
        "        \"email_on_retry\": False,\n",
        "        \"retries\": 1,\n",
        "        \"retry_delay\": timedelta(minutes=5),\n",
        "        \"schedule_interval\": \"@once\",\n",
        "    },"
      ],
      "metadata": {
        "id": "b3q1DwrcVtaO"
      },
      "execution_count": null,
      "outputs": []
    },
    {
      "cell_type": "code",
      "source": [
        "MYSQL_CONNECTION = \"mysql_default\"   # connection name in Airflow\n",
        "CONVERSION_RATE_URL = \"https://r2de2-workshop-vmftiryt6q-ts.a.run.app/usd_thb_conversion_rate\"\n",
        "\n",
        "# path\n",
        "mysql_output_path = \"/home/airflow/gcs/data/audible_data_merged.csv\"\n",
        "conversion_rate_output_path = \"/home/airflow/gcs/data/conversion_rate.csv\"\n",
        "final_output_path = \"/home/airflow/gcs/data/output.csv\"\n"
      ],
      "metadata": {
        "id": "EexU-9VRZ13p"
      },
      "execution_count": null,
      "outputs": []
    },
    {
      "cell_type": "code",
      "source": [
        "def get_data_from_mysql(transaction_path):\n",
        "    mysqlserver = MySqlHook(MYSQL_CONNECTION)\n",
        "\n",
        "    audible_data = mysqlserver.get_pandas_df(sql=\"SELECT * FROM audible_data\")\n",
        "    audible_transaction = mysqlserver.get_pandas_df(sql=\"SELECT * FROM audible_transaction\")\n",
        "\n",
        "    df = audible_transaction.merge(audible_data, how=\"left\", left_on=\"book_id\", right_on=\"Book_ID\")\n",
        "\n",
        "    df.to_csv(transaction_path, index=False)\n",
        "    print(f\"Output to {transaction_path}\")\n",
        "\n",
        "def get_conversion_rate(conversion_rate_path):\n",
        "    r = requests.get(CONVERSION_RATE_URL)\n",
        "    result_conversion_rate = r.json()\n",
        "    df = pd.DataFrame(result_conversion_rate)\n",
        "\n",
        "    df = df.reset_index().rename(columns={\"index\": \"date\"})\n",
        "    df.to_csv(conversion_rate_path, index=False)\n",
        "    print(f\"Output to {conversion_rate_path}\")\n",
        "\n",
        "def merge_data(transaction_path, conversion_rate_path, output_path):\n",
        "    transaction = pd.read_csv(transaction_path)\n",
        "    conversion_rate = pd.read_csv(conversion_rate_path)\n",
        "\n",
        "    transaction['date'] = transaction['timestamp']\n",
        "    transaction['date'] = pd.to_datetime(transaction['date']).dt.date\n",
        "    conversion_rate['date'] = pd.to_datetime(conversion_rate['date']).dt.date\n",
        "\n",
        "    final_df = transaction.merge(conversion_rate, how=\"left\", left_on=\"date\", right_on=\"date\")\n",
        "\n",
        "    final_df[\"Price\"] = final_df.apply(lambda x: x[\"Price\"].replace(\"$\",\"\"), axis=1)\n",
        "    final_df[\"Price\"] = final_df[\"Price\"].astype(float)\n",
        "\n",
        "    final_df[\"THBPrice\"] = final_df[\"Price\"] * final_df[\"conversion_rate\"]\n",
        "    final_df = final_df.drop([\"date\", \"book_id\"], axis=1)\n",
        "\n",
        "    final_df.to_csv(output_path, index=False)\n",
        "    print(f\"Output to {output_path}\")\n",
        "\n"
      ],
      "metadata": {
        "id": "E8-r3PFuZ2-_"
      },
      "execution_count": null,
      "outputs": []
    },
    {
      "cell_type": "code",
      "source": [
        "#Instantiate as DAG\n",
        "with DAG(\n",
        "    \"workshop5_bq_load_dag\",\n",
        "    start_date=days_ago(1),\n",
        "    schedule_interval=\"@once\",\n",
        "    tags=[\"workshop\"]\n",
        ") as dag:\n"
      ],
      "metadata": {
        "id": "tLJPM4PIVyW2"
      },
      "execution_count": null,
      "outputs": []
    },
    {
      "cell_type": "code",
      "source": [
        "#Tasks\n",
        "    ##get data from mysql\n",
        "    t1 = PythonOperator(\n",
        "        task_id=\"get_data_from_mysql\",\n",
        "        python_callable=get_data_from_mysql,\n",
        "        op_kwargs={\"transaction_path\" : mysql_output_path},\n",
        "    )\n",
        "\n",
        "    ##get data from API\n",
        "    t2 = PythonOperator(\n",
        "        task_id=\"get_conversion_rate\",\n",
        "        python_callable=get_conversion_rate,\n",
        "        op_kwargs={\"conversion_rate_path\" : conversion_rate_output_path},\n",
        "    )\n",
        "\n",
        "    ##merge data\n",
        "    t3 = PythonOperator(\n",
        "        task_id=\"merge_data\",\n",
        "        python_callable=merge_data,\n",
        "        op_kwargs={\"transaction_path\" : mysql_output_path,\n",
        "                   \"conversion_rate_path\" : conversion_rate_output_path,\n",
        "                   \"output_path\" : final_output_path},\n",
        "    )\n",
        "    ##load to Bigquery\n",
        "    t4 = BashOperator(\n",
        "        task_id=\"bq_load\",\n",
        "        bash_command=\"bq load\\\n",
        "                    --source_format=CSV --autoodetect\\\n",
        "                    workshop.audible_data1\\\n",
        "                    gs://[GCS_bucket]/data/[filename].csv\",\n",
        "    )\n"
      ],
      "metadata": {
        "id": "RKYPPr1ZV7VP"
      },
      "execution_count": null,
      "outputs": []
    },
    {
      "cell_type": "code",
      "source": [
        "#Setting up Dependencies\n",
        "    [t1, t2] >> t3 >> t4"
      ],
      "metadata": {
        "id": "Vp_IfD6tV94_"
      },
      "execution_count": null,
      "outputs": []
    }
  ]
}