{
  "nbformat": 4,
  "nbformat_minor": 0,
  "metadata": {
    "colab": {
      "provenance": [],
      "authorship_tag": "ABX9TyPxeXmt/gilVFAFIFd2pWrY",
      "include_colab_link": true
    },
    "kernelspec": {
      "name": "python3",
      "display_name": "Python 3"
    },
    "language_info": {
      "name": "python"
    }
  },
  "cells": [
    {
      "cell_type": "markdown",
      "metadata": {
        "id": "view-in-github",
        "colab_type": "text"
      },
      "source": [
        "<a href=\"https://colab.research.google.com/github/Chayansp/Data-Engineer/blob/main/Extract.ipynb\" target=\"_parent\"><img src=\"https://colab.research.google.com/assets/colab-badge.svg\" alt=\"Open In Colab\"/></a>"
      ]
    },
    {
      "cell_type": "markdown",
      "source": [
        "# Extract data from MySQL database"
      ],
      "metadata": {
        "id": "YmZXmcsHVzQS"
      }
    },
    {
      "cell_type": "markdown",
      "source": [
        "**Install PyMySQL**"
      ],
      "metadata": {
        "id": "FqK4-0cbJyRm"
      }
    },
    {
      "cell_type": "code",
      "source": [
        "!pip install pymysql"
      ],
      "metadata": {
        "id": "5XrYMfQqKa4t",
        "colab": {
          "base_uri": "https://localhost:8080/"
        },
        "outputId": "9f18eb90-a355-4b15-eeb2-e16f7b915a5f"
      },
      "execution_count": null,
      "outputs": [
        {
          "output_type": "stream",
          "name": "stdout",
          "text": [
            "Looking in indexes: https://pypi.org/simple, https://us-python.pkg.dev/colab-wheels/public/simple/\n",
            "Collecting pymysql\n",
            "  Downloading PyMySQL-1.0.2-py3-none-any.whl (43 kB)\n",
            "\u001b[2K     \u001b[90m━━━━━━━━━━━━━━━━━━━━━━━━━━━━━━━━━━━━━━━━\u001b[0m \u001b[32m43.8/43.8 KB\u001b[0m \u001b[31m1.4 MB/s\u001b[0m eta \u001b[36m0:00:00\u001b[0m\n",
            "\u001b[?25hInstalling collected packages: pymysql\n",
            "Successfully installed pymysql-1.0.2\n"
          ]
        }
      ]
    },
    {
      "cell_type": "code",
      "source": [
        "import os\n",
        "import pymysql.cursors"
      ],
      "metadata": {
        "id": "MTDgpf9KLJH-"
      },
      "execution_count": null,
      "outputs": []
    },
    {
      "cell_type": "markdown",
      "source": [
        "\n",
        "\n",
        "```\n",
        "#MYSQL_HOST = 'HOST'\n",
        "  MYSQL_PORT = 3306             \n",
        "  MYSQL_USER = 'USERNAME'\n",
        "  MYSQL_PASSWORD = 'PASSWORD'\n",
        "  MYSQL_DB = 'DATABASE_NAME'\n",
        "  MYSQL_CHARSET = 'utf8mb4'\n",
        "```\n",
        "\n"
      ],
      "metadata": {
        "id": "jDKtNwlb0iNP"
      }
    },
    {
      "cell_type": "code",
      "source": [
        "\n",
        "class Config:\n",
        "\n",
        "  MYSQL_HOST = 'HOST'\n",
        "\n",
        "  MYSQL_PORT = 3306 \n",
        "\n",
        "  MYSQL_USER = 'USER'\n",
        "\n",
        "  MYSQL_PASSWORD = 'PASSWORD'\n",
        "\n",
        "  MYSQL_DB = 'DATABASE'\n",
        "\n",
        "  MYSQL_CHARSET = 'utf8mb4'\n"
      ],
      "metadata": {
        "id": "u47Oh_yjKg-O"
      },
      "execution_count": null,
      "outputs": []
    },
    {
      "cell_type": "code",
      "source": [
        "# Connect to the database\n",
        "connection = pymysql.connect(\n",
        "                            host=Config.MYSQL_HOST,\n",
        "                             port=Config.MYSQL_PORT,\n",
        "                             user=Config.MYSQL_USER,\n",
        "                             password=Config.MYSQL_PASSWORD,\n",
        "                             db=Config.MYSQL_DB,\n",
        "                             charset=Config.MYSQL_CHARSET,\n",
        "                             cursorclass=pymysql.cursors.DictCursor\n",
        ")  "
      ],
      "metadata": {
        "id": "VJbFtLMHnrkZ"
      },
      "execution_count": null,
      "outputs": []
    },
    {
      "cell_type": "code",
      "source": [
        "connection"
      ],
      "metadata": {
        "colab": {
          "base_uri": "https://localhost:8080/"
        },
        "id": "EZugR6G5hjL-",
        "outputId": "63bfb22b-ac72-4f89-ab60-7747b72def41"
      },
      "execution_count": null,
      "outputs": [
        {
          "output_type": "execute_result",
          "data": {
            "text/plain": [
              "<pymysql.connections.Connection at 0x7fb90f6bf7c0>"
            ]
          },
          "metadata": {},
          "execution_count": 15
        }
      ]
    },
    {
      "cell_type": "markdown",
      "source": [
        "**Show all tables**"
      ],
      "metadata": {
        "id": "Z_Uc-NQlqvu9"
      }
    },
    {
      "cell_type": "code",
      "source": [
        "cursor = connection.cursor()\n",
        "cursor.execute(\"SHOW TABLES;\")\n",
        "tables = cursor.fetchall()\n",
        "cursor.close()  \n",
        "print(tables)"
      ],
      "metadata": {
        "id": "GaDbHflppcEh",
        "colab": {
          "base_uri": "https://localhost:8080/"
        },
        "outputId": "a6c5f4a6-e704-4e6c-9fb0-1c5274ce5b44"
      },
      "execution_count": null,
      "outputs": [
        {
          "output_type": "stream",
          "name": "stdout",
          "text": [
            "[{'Tables_in_r2de2': 'audible_data'}, {'Tables_in_r2de2': 'audible_transaction'}]\n"
          ]
        }
      ]
    },
    {
      "cell_type": "markdown",
      "source": [
        "**Show some table by with statement**"
      ],
      "metadata": {
        "id": "6UXya8bbSQnr"
      }
    },
    {
      "cell_type": "code",
      "source": [
        "with connection.cursor() as cursor:\n",
        "  sql = \"SELECT * FROM audible_data LIMIT 5; \" \n",
        "\n",
        "  cursor.execute(sql)\n",
        "  result = cursor.fetchall()\n",
        "\n",
        "  print(\"number of rows: \",  len(result))"
      ],
      "metadata": {
        "colab": {
          "base_uri": "https://localhost:8080/"
        },
        "id": "m4UYsqhUSz5r",
        "outputId": "6187bc49-39bd-484c-e90e-323c1a9d2360"
      },
      "execution_count": null,
      "outputs": [
        {
          "output_type": "stream",
          "name": "stdout",
          "text": [
            "number of rows:  2269\n"
          ]
        }
      ]
    },
    {
      "cell_type": "markdown",
      "source": [
        "**Convert the raw data into the DataFrame with the Pandas library**"
      ],
      "metadata": {
        "id": "RdlZUIeXX-ul"
      }
    },
    {
      "cell_type": "code",
      "source": [
        "import pandas as pd\n",
        "\n",
        "audible_data = pd.DataFrame(result)\n",
        "audible_data = audible_data.set_index(\"Book_ID\") \n",
        "\n",
        "type(audible_data)"
      ],
      "metadata": {
        "colab": {
          "base_uri": "https://localhost:8080/"
        },
        "id": "ck_vmcEgYdWK",
        "outputId": "b8876a61-946c-4c82-a43e-0c3c24eb33fd"
      },
      "execution_count": null,
      "outputs": [
        {
          "output_type": "execute_result",
          "data": {
            "text/plain": [
              "pandas.core.frame.DataFrame"
            ]
          },
          "metadata": {},
          "execution_count": 18
        }
      ]
    },
    {
      "cell_type": "code",
      "source": [
        "audible_data.head()"
      ],
      "metadata": {
        "id": "OT5-dHZWZCHk",
        "colab": {
          "base_uri": "https://localhost:8080/",
          "height": 666
        },
        "outputId": "cc8f42e8-56f6-4c6e-81d4-131d7a6896b2"
      },
      "execution_count": null,
      "outputs": [
        {
          "output_type": "execute_result",
          "data": {
            "text/plain": [
              "                              Book Title  \\\n",
              "Book_ID                                    \n",
              "1                    Bamboozled by Jesus   \n",
              "2                     Sixth Realm Part 1   \n",
              "3        Go Tell the Bees That I Am Gone   \n",
              "4                 How the Word Is Passed   \n",
              "5                    The Devil May Dance   \n",
              "\n",
              "                                             Book Subtitle        Book Author  \\\n",
              "Book_ID                                                                         \n",
              "1            How God Tricked Me into the Life of My Dreams        Yvonne Orji   \n",
              "2         A LitRPG Fantasy Series (The Ten Realms, Book 6)  Michael Chatfield   \n",
              "3                                        Outlander, Book 9     Diana Gabaldon   \n",
              "4        A Reckoning with the History of Slavery Across...        Clint Smith   \n",
              "5                                                  A Novel        Jake Tapper   \n",
              "\n",
              "          Book Narrator       Audio Runtime        Audiobook_Type  \\\n",
              "Book_ID                                                             \n",
              "1           Yvonne Orji   6 hrs and 31 mins  Unabridged Audiobook   \n",
              "2        Neil Hellegers  13 hrs and 33 mins  Unabridged Audiobook   \n",
              "3         Davina Porter  27 hrs and 30 mins  Unabridged Audiobook   \n",
              "4           Clint Smith   10 hrs and 7 mins  Unabridged Audiobook   \n",
              "5           Rob Shapiro  10 hrs and 12 mins  Unabridged Audiobook   \n",
              "\n",
              "                           Categories Rating  Total No. of Ratings    Price  \n",
              "Book_ID                                                                      \n",
              "1               Biographies & Memoirs      5                  47.0  $29.65   \n",
              "2           Science Fiction & Fantasy    4.5                  98.0  $24.95   \n",
              "3           Science Fiction & Fantasy   None                   NaN  $41.99   \n",
              "4                             History   None                   NaN  $29.65   \n",
              "5        Mystery, Thriller & Suspense    4.5                 108.0  $29.65   "
            ],
            "text/html": [
              "\n",
              "  <div id=\"df-777483e9-e97b-4aea-99a6-b07d7061bce1\">\n",
              "    <div class=\"colab-df-container\">\n",
              "      <div>\n",
              "<style scoped>\n",
              "    .dataframe tbody tr th:only-of-type {\n",
              "        vertical-align: middle;\n",
              "    }\n",
              "\n",
              "    .dataframe tbody tr th {\n",
              "        vertical-align: top;\n",
              "    }\n",
              "\n",
              "    .dataframe thead th {\n",
              "        text-align: right;\n",
              "    }\n",
              "</style>\n",
              "<table border=\"1\" class=\"dataframe\">\n",
              "  <thead>\n",
              "    <tr style=\"text-align: right;\">\n",
              "      <th></th>\n",
              "      <th>Book Title</th>\n",
              "      <th>Book Subtitle</th>\n",
              "      <th>Book Author</th>\n",
              "      <th>Book Narrator</th>\n",
              "      <th>Audio Runtime</th>\n",
              "      <th>Audiobook_Type</th>\n",
              "      <th>Categories</th>\n",
              "      <th>Rating</th>\n",
              "      <th>Total No. of Ratings</th>\n",
              "      <th>Price</th>\n",
              "    </tr>\n",
              "    <tr>\n",
              "      <th>Book_ID</th>\n",
              "      <th></th>\n",
              "      <th></th>\n",
              "      <th></th>\n",
              "      <th></th>\n",
              "      <th></th>\n",
              "      <th></th>\n",
              "      <th></th>\n",
              "      <th></th>\n",
              "      <th></th>\n",
              "      <th></th>\n",
              "    </tr>\n",
              "  </thead>\n",
              "  <tbody>\n",
              "    <tr>\n",
              "      <th>1</th>\n",
              "      <td>Bamboozled by Jesus</td>\n",
              "      <td>How God Tricked Me into the Life of My Dreams</td>\n",
              "      <td>Yvonne Orji</td>\n",
              "      <td>Yvonne Orji</td>\n",
              "      <td>6 hrs and 31 mins</td>\n",
              "      <td>Unabridged Audiobook</td>\n",
              "      <td>Biographies &amp; Memoirs</td>\n",
              "      <td>5</td>\n",
              "      <td>47.0</td>\n",
              "      <td>$29.65</td>\n",
              "    </tr>\n",
              "    <tr>\n",
              "      <th>2</th>\n",
              "      <td>Sixth Realm Part 1</td>\n",
              "      <td>A LitRPG Fantasy Series (The Ten Realms, Book 6)</td>\n",
              "      <td>Michael Chatfield</td>\n",
              "      <td>Neil Hellegers</td>\n",
              "      <td>13 hrs and 33 mins</td>\n",
              "      <td>Unabridged Audiobook</td>\n",
              "      <td>Science Fiction &amp; Fantasy</td>\n",
              "      <td>4.5</td>\n",
              "      <td>98.0</td>\n",
              "      <td>$24.95</td>\n",
              "    </tr>\n",
              "    <tr>\n",
              "      <th>3</th>\n",
              "      <td>Go Tell the Bees That I Am Gone</td>\n",
              "      <td>Outlander, Book 9</td>\n",
              "      <td>Diana Gabaldon</td>\n",
              "      <td>Davina Porter</td>\n",
              "      <td>27 hrs and 30 mins</td>\n",
              "      <td>Unabridged Audiobook</td>\n",
              "      <td>Science Fiction &amp; Fantasy</td>\n",
              "      <td>None</td>\n",
              "      <td>NaN</td>\n",
              "      <td>$41.99</td>\n",
              "    </tr>\n",
              "    <tr>\n",
              "      <th>4</th>\n",
              "      <td>How the Word Is Passed</td>\n",
              "      <td>A Reckoning with the History of Slavery Across...</td>\n",
              "      <td>Clint Smith</td>\n",
              "      <td>Clint Smith</td>\n",
              "      <td>10 hrs and 7 mins</td>\n",
              "      <td>Unabridged Audiobook</td>\n",
              "      <td>History</td>\n",
              "      <td>None</td>\n",
              "      <td>NaN</td>\n",
              "      <td>$29.65</td>\n",
              "    </tr>\n",
              "    <tr>\n",
              "      <th>5</th>\n",
              "      <td>The Devil May Dance</td>\n",
              "      <td>A Novel</td>\n",
              "      <td>Jake Tapper</td>\n",
              "      <td>Rob Shapiro</td>\n",
              "      <td>10 hrs and 12 mins</td>\n",
              "      <td>Unabridged Audiobook</td>\n",
              "      <td>Mystery, Thriller &amp; Suspense</td>\n",
              "      <td>4.5</td>\n",
              "      <td>108.0</td>\n",
              "      <td>$29.65</td>\n",
              "    </tr>\n",
              "  </tbody>\n",
              "</table>\n",
              "</div>\n",
              "      <button class=\"colab-df-convert\" onclick=\"convertToInteractive('df-777483e9-e97b-4aea-99a6-b07d7061bce1')\"\n",
              "              title=\"Convert this dataframe to an interactive table.\"\n",
              "              style=\"display:none;\">\n",
              "        \n",
              "  <svg xmlns=\"http://www.w3.org/2000/svg\" height=\"24px\"viewBox=\"0 0 24 24\"\n",
              "       width=\"24px\">\n",
              "    <path d=\"M0 0h24v24H0V0z\" fill=\"none\"/>\n",
              "    <path d=\"M18.56 5.44l.94 2.06.94-2.06 2.06-.94-2.06-.94-.94-2.06-.94 2.06-2.06.94zm-11 1L8.5 8.5l.94-2.06 2.06-.94-2.06-.94L8.5 2.5l-.94 2.06-2.06.94zm10 10l.94 2.06.94-2.06 2.06-.94-2.06-.94-.94-2.06-.94 2.06-2.06.94z\"/><path d=\"M17.41 7.96l-1.37-1.37c-.4-.4-.92-.59-1.43-.59-.52 0-1.04.2-1.43.59L10.3 9.45l-7.72 7.72c-.78.78-.78 2.05 0 2.83L4 21.41c.39.39.9.59 1.41.59.51 0 1.02-.2 1.41-.59l7.78-7.78 2.81-2.81c.8-.78.8-2.07 0-2.86zM5.41 20L4 18.59l7.72-7.72 1.47 1.35L5.41 20z\"/>\n",
              "  </svg>\n",
              "      </button>\n",
              "      \n",
              "  <style>\n",
              "    .colab-df-container {\n",
              "      display:flex;\n",
              "      flex-wrap:wrap;\n",
              "      gap: 12px;\n",
              "    }\n",
              "\n",
              "    .colab-df-convert {\n",
              "      background-color: #E8F0FE;\n",
              "      border: none;\n",
              "      border-radius: 50%;\n",
              "      cursor: pointer;\n",
              "      display: none;\n",
              "      fill: #1967D2;\n",
              "      height: 32px;\n",
              "      padding: 0 0 0 0;\n",
              "      width: 32px;\n",
              "    }\n",
              "\n",
              "    .colab-df-convert:hover {\n",
              "      background-color: #E2EBFA;\n",
              "      box-shadow: 0px 1px 2px rgba(60, 64, 67, 0.3), 0px 1px 3px 1px rgba(60, 64, 67, 0.15);\n",
              "      fill: #174EA6;\n",
              "    }\n",
              "\n",
              "    [theme=dark] .colab-df-convert {\n",
              "      background-color: #3B4455;\n",
              "      fill: #D2E3FC;\n",
              "    }\n",
              "\n",
              "    [theme=dark] .colab-df-convert:hover {\n",
              "      background-color: #434B5C;\n",
              "      box-shadow: 0px 1px 3px 1px rgba(0, 0, 0, 0.15);\n",
              "      filter: drop-shadow(0px 1px 2px rgba(0, 0, 0, 0.3));\n",
              "      fill: #FFFFFF;\n",
              "    }\n",
              "  </style>\n",
              "\n",
              "      <script>\n",
              "        const buttonEl =\n",
              "          document.querySelector('#df-777483e9-e97b-4aea-99a6-b07d7061bce1 button.colab-df-convert');\n",
              "        buttonEl.style.display =\n",
              "          google.colab.kernel.accessAllowed ? 'block' : 'none';\n",
              "\n",
              "        async function convertToInteractive(key) {\n",
              "          const element = document.querySelector('#df-777483e9-e97b-4aea-99a6-b07d7061bce1');\n",
              "          const dataTable =\n",
              "            await google.colab.kernel.invokeFunction('convertToInteractive',\n",
              "                                                     [key], {});\n",
              "          if (!dataTable) return;\n",
              "\n",
              "          const docLinkHtml = 'Like what you see? Visit the ' +\n",
              "            '<a target=\"_blank\" href=https://colab.research.google.com/notebooks/data_table.ipynb>data table notebook</a>'\n",
              "            + ' to learn more about interactive tables.';\n",
              "          element.innerHTML = '';\n",
              "          dataTable['output_type'] = 'display_data';\n",
              "          await google.colab.output.renderOutput(dataTable, element);\n",
              "          const docLink = document.createElement('div');\n",
              "          docLink.innerHTML = docLinkHtml;\n",
              "          element.appendChild(docLink);\n",
              "        }\n",
              "      </script>\n",
              "    </div>\n",
              "  </div>\n",
              "  "
            ]
          },
          "metadata": {},
          "execution_count": 19
        }
      ]
    },
    {
      "cell_type": "markdown",
      "source": [
        "#Join table: audible_transaction & audible_data"
      ],
      "metadata": {
        "id": "c4J_EMhKjjGA"
      }
    },
    {
      "cell_type": "code",
      "source": [
        "#audible_transaction\n",
        "sql = \"SELECT * FROM audible_transaction\"\n",
        "audible_transaction = pd.read_sql(sql, connection)\n",
        "#audible_transaction"
      ],
      "metadata": {
        "id": "BnqjhHCfodT2"
      },
      "execution_count": null,
      "outputs": []
    },
    {
      "cell_type": "code",
      "source": [
        "transaction = audible_transaction.merge(\n",
        "    audible_data, how=\"left\", \n",
        "    left_on=\"book_id\", \n",
        "    right_on=\"Book_ID\"\n",
        "  )"
      ],
      "metadata": {
        "id": "SXF3DyrhoVye"
      },
      "execution_count": null,
      "outputs": []
    },
    {
      "cell_type": "code",
      "source": [
        "transaction.head()"
      ],
      "metadata": {
        "colab": {
          "base_uri": "https://localhost:8080/",
          "height": 565
        },
        "id": "SpemukRwoXpG",
        "outputId": "0fc83f97-b91a-4f38-bfa4-2435b82205b2"
      },
      "execution_count": null,
      "outputs": [
        {
          "output_type": "execute_result",
          "data": {
            "text/plain": [
              "            timestamp   user_id  book_id                   country  \\\n",
              "0 2021-05-01 00:00:01  ad8eca41     1584                  Portugal   \n",
              "1 2021-05-01 00:00:03  561b26c1      829  United States of America   \n",
              "2 2021-05-01 00:00:04  81f149e5     1391                     Japan   \n",
              "3 2021-05-01 00:00:07  4f218413     1586                    Taiwan   \n",
              "4 2021-05-01 00:00:18  a4066781      300  United States of America   \n",
              "\n",
              "                             Book Title  \\\n",
              "0                          Sycamore Row   \n",
              "1      The 5 Love Languages of Children   \n",
              "2                         The Guardians   \n",
              "3                    How to Be a 3% Man   \n",
              "4  Napoleon Hill's Outwitting the Devil   \n",
              "\n",
              "                               Book Subtitle    Book Author    Book Narrator  \\\n",
              "0                                       None   John Grisham     Michael Beck   \n",
              "1  The Secret to Loving Children Effectively   Gary Chapman      Chris Fabry   \n",
              "2                                    A Novel   John Grisham     Michael Beck   \n",
              "3                                       None    Corey Wayne      Corey Wayne   \n",
              "4          The Secret to Freedom and Success  Napoleon Hill  Dan John Miller   \n",
              "\n",
              "        Audio Runtime        Audiobook_Type  \\\n",
              "0  20 hrs and 46 mins  Unabridged Audiobook   \n",
              "1   5 hrs and 48 mins  Unabridged Audiobook   \n",
              "2  11 hrs and 50 mins  Unabridged Audiobook   \n",
              "3   7 hrs and 33 mins  Unabridged Audiobook   \n",
              "4   5 hrs and 51 mins  Unabridged Audiobook   \n",
              "\n",
              "                                        Categories Rating  \\\n",
              "0                     Mystery, Thriller & Suspense    4.6   \n",
              "1  Relationships, Parenting & Personal Development    4.8   \n",
              "2                     Mystery, Thriller & Suspense    4.6   \n",
              "3  Relationships, Parenting & Personal Development    4.8   \n",
              "4                               Business & Careers    4.8   \n",
              "\n",
              "   Total No. of Ratings    Price  \n",
              "0               25863.0  $35.00   \n",
              "1                2441.0  $19.59   \n",
              "2               26781.0  $31.50   \n",
              "3               11459.0  $19.95   \n",
              "4                9305.0  $17.49   "
            ],
            "text/html": [
              "\n",
              "  <div id=\"df-dca77d88-41bd-4b96-afc7-71672db96c53\">\n",
              "    <div class=\"colab-df-container\">\n",
              "      <div>\n",
              "<style scoped>\n",
              "    .dataframe tbody tr th:only-of-type {\n",
              "        vertical-align: middle;\n",
              "    }\n",
              "\n",
              "    .dataframe tbody tr th {\n",
              "        vertical-align: top;\n",
              "    }\n",
              "\n",
              "    .dataframe thead th {\n",
              "        text-align: right;\n",
              "    }\n",
              "</style>\n",
              "<table border=\"1\" class=\"dataframe\">\n",
              "  <thead>\n",
              "    <tr style=\"text-align: right;\">\n",
              "      <th></th>\n",
              "      <th>timestamp</th>\n",
              "      <th>user_id</th>\n",
              "      <th>book_id</th>\n",
              "      <th>country</th>\n",
              "      <th>Book Title</th>\n",
              "      <th>Book Subtitle</th>\n",
              "      <th>Book Author</th>\n",
              "      <th>Book Narrator</th>\n",
              "      <th>Audio Runtime</th>\n",
              "      <th>Audiobook_Type</th>\n",
              "      <th>Categories</th>\n",
              "      <th>Rating</th>\n",
              "      <th>Total No. of Ratings</th>\n",
              "      <th>Price</th>\n",
              "    </tr>\n",
              "  </thead>\n",
              "  <tbody>\n",
              "    <tr>\n",
              "      <th>0</th>\n",
              "      <td>2021-05-01 00:00:01</td>\n",
              "      <td>ad8eca41</td>\n",
              "      <td>1584</td>\n",
              "      <td>Portugal</td>\n",
              "      <td>Sycamore Row</td>\n",
              "      <td>None</td>\n",
              "      <td>John Grisham</td>\n",
              "      <td>Michael Beck</td>\n",
              "      <td>20 hrs and 46 mins</td>\n",
              "      <td>Unabridged Audiobook</td>\n",
              "      <td>Mystery, Thriller &amp; Suspense</td>\n",
              "      <td>4.6</td>\n",
              "      <td>25863.0</td>\n",
              "      <td>$35.00</td>\n",
              "    </tr>\n",
              "    <tr>\n",
              "      <th>1</th>\n",
              "      <td>2021-05-01 00:00:03</td>\n",
              "      <td>561b26c1</td>\n",
              "      <td>829</td>\n",
              "      <td>United States of America</td>\n",
              "      <td>The 5 Love Languages of Children</td>\n",
              "      <td>The Secret to Loving Children Effectively</td>\n",
              "      <td>Gary Chapman</td>\n",
              "      <td>Chris Fabry</td>\n",
              "      <td>5 hrs and 48 mins</td>\n",
              "      <td>Unabridged Audiobook</td>\n",
              "      <td>Relationships, Parenting &amp; Personal Development</td>\n",
              "      <td>4.8</td>\n",
              "      <td>2441.0</td>\n",
              "      <td>$19.59</td>\n",
              "    </tr>\n",
              "    <tr>\n",
              "      <th>2</th>\n",
              "      <td>2021-05-01 00:00:04</td>\n",
              "      <td>81f149e5</td>\n",
              "      <td>1391</td>\n",
              "      <td>Japan</td>\n",
              "      <td>The Guardians</td>\n",
              "      <td>A Novel</td>\n",
              "      <td>John Grisham</td>\n",
              "      <td>Michael Beck</td>\n",
              "      <td>11 hrs and 50 mins</td>\n",
              "      <td>Unabridged Audiobook</td>\n",
              "      <td>Mystery, Thriller &amp; Suspense</td>\n",
              "      <td>4.6</td>\n",
              "      <td>26781.0</td>\n",
              "      <td>$31.50</td>\n",
              "    </tr>\n",
              "    <tr>\n",
              "      <th>3</th>\n",
              "      <td>2021-05-01 00:00:07</td>\n",
              "      <td>4f218413</td>\n",
              "      <td>1586</td>\n",
              "      <td>Taiwan</td>\n",
              "      <td>How to Be a 3% Man</td>\n",
              "      <td>None</td>\n",
              "      <td>Corey Wayne</td>\n",
              "      <td>Corey Wayne</td>\n",
              "      <td>7 hrs and 33 mins</td>\n",
              "      <td>Unabridged Audiobook</td>\n",
              "      <td>Relationships, Parenting &amp; Personal Development</td>\n",
              "      <td>4.8</td>\n",
              "      <td>11459.0</td>\n",
              "      <td>$19.95</td>\n",
              "    </tr>\n",
              "    <tr>\n",
              "      <th>4</th>\n",
              "      <td>2021-05-01 00:00:18</td>\n",
              "      <td>a4066781</td>\n",
              "      <td>300</td>\n",
              "      <td>United States of America</td>\n",
              "      <td>Napoleon Hill's Outwitting the Devil</td>\n",
              "      <td>The Secret to Freedom and Success</td>\n",
              "      <td>Napoleon Hill</td>\n",
              "      <td>Dan John Miller</td>\n",
              "      <td>5 hrs and 51 mins</td>\n",
              "      <td>Unabridged Audiobook</td>\n",
              "      <td>Business &amp; Careers</td>\n",
              "      <td>4.8</td>\n",
              "      <td>9305.0</td>\n",
              "      <td>$17.49</td>\n",
              "    </tr>\n",
              "  </tbody>\n",
              "</table>\n",
              "</div>\n",
              "      <button class=\"colab-df-convert\" onclick=\"convertToInteractive('df-dca77d88-41bd-4b96-afc7-71672db96c53')\"\n",
              "              title=\"Convert this dataframe to an interactive table.\"\n",
              "              style=\"display:none;\">\n",
              "        \n",
              "  <svg xmlns=\"http://www.w3.org/2000/svg\" height=\"24px\"viewBox=\"0 0 24 24\"\n",
              "       width=\"24px\">\n",
              "    <path d=\"M0 0h24v24H0V0z\" fill=\"none\"/>\n",
              "    <path d=\"M18.56 5.44l.94 2.06.94-2.06 2.06-.94-2.06-.94-.94-2.06-.94 2.06-2.06.94zm-11 1L8.5 8.5l.94-2.06 2.06-.94-2.06-.94L8.5 2.5l-.94 2.06-2.06.94zm10 10l.94 2.06.94-2.06 2.06-.94-2.06-.94-.94-2.06-.94 2.06-2.06.94z\"/><path d=\"M17.41 7.96l-1.37-1.37c-.4-.4-.92-.59-1.43-.59-.52 0-1.04.2-1.43.59L10.3 9.45l-7.72 7.72c-.78.78-.78 2.05 0 2.83L4 21.41c.39.39.9.59 1.41.59.51 0 1.02-.2 1.41-.59l7.78-7.78 2.81-2.81c.8-.78.8-2.07 0-2.86zM5.41 20L4 18.59l7.72-7.72 1.47 1.35L5.41 20z\"/>\n",
              "  </svg>\n",
              "      </button>\n",
              "      \n",
              "  <style>\n",
              "    .colab-df-container {\n",
              "      display:flex;\n",
              "      flex-wrap:wrap;\n",
              "      gap: 12px;\n",
              "    }\n",
              "\n",
              "    .colab-df-convert {\n",
              "      background-color: #E8F0FE;\n",
              "      border: none;\n",
              "      border-radius: 50%;\n",
              "      cursor: pointer;\n",
              "      display: none;\n",
              "      fill: #1967D2;\n",
              "      height: 32px;\n",
              "      padding: 0 0 0 0;\n",
              "      width: 32px;\n",
              "    }\n",
              "\n",
              "    .colab-df-convert:hover {\n",
              "      background-color: #E2EBFA;\n",
              "      box-shadow: 0px 1px 2px rgba(60, 64, 67, 0.3), 0px 1px 3px 1px rgba(60, 64, 67, 0.15);\n",
              "      fill: #174EA6;\n",
              "    }\n",
              "\n",
              "    [theme=dark] .colab-df-convert {\n",
              "      background-color: #3B4455;\n",
              "      fill: #D2E3FC;\n",
              "    }\n",
              "\n",
              "    [theme=dark] .colab-df-convert:hover {\n",
              "      background-color: #434B5C;\n",
              "      box-shadow: 0px 1px 3px 1px rgba(0, 0, 0, 0.15);\n",
              "      filter: drop-shadow(0px 1px 2px rgba(0, 0, 0, 0.3));\n",
              "      fill: #FFFFFF;\n",
              "    }\n",
              "  </style>\n",
              "\n",
              "      <script>\n",
              "        const buttonEl =\n",
              "          document.querySelector('#df-dca77d88-41bd-4b96-afc7-71672db96c53 button.colab-df-convert');\n",
              "        buttonEl.style.display =\n",
              "          google.colab.kernel.accessAllowed ? 'block' : 'none';\n",
              "\n",
              "        async function convertToInteractive(key) {\n",
              "          const element = document.querySelector('#df-dca77d88-41bd-4b96-afc7-71672db96c53');\n",
              "          const dataTable =\n",
              "            await google.colab.kernel.invokeFunction('convertToInteractive',\n",
              "                                                     [key], {});\n",
              "          if (!dataTable) return;\n",
              "\n",
              "          const docLinkHtml = 'Like what you see? Visit the ' +\n",
              "            '<a target=\"_blank\" href=https://colab.research.google.com/notebooks/data_table.ipynb>data table notebook</a>'\n",
              "            + ' to learn more about interactive tables.';\n",
              "          element.innerHTML = '';\n",
              "          dataTable['output_type'] = 'display_data';\n",
              "          await google.colab.output.renderOutput(dataTable, element);\n",
              "          const docLink = document.createElement('div');\n",
              "          docLink.innerHTML = docLinkHtml;\n",
              "          element.appendChild(docLink);\n",
              "        }\n",
              "      </script>\n",
              "    </div>\n",
              "  </div>\n",
              "  "
            ]
          },
          "metadata": {},
          "execution_count": 45
        }
      ]
    },
    {
      "cell_type": "markdown",
      "source": [
        "# Get data from REST API"
      ],
      "metadata": {
        "id": "032HXrt2bAMV"
      }
    },
    {
      "cell_type": "code",
      "source": [
        "import requests"
      ],
      "metadata": {
        "id": "IBUnfqLtjbok"
      },
      "execution_count": null,
      "outputs": []
    },
    {
      "cell_type": "code",
      "source": [
        "url = \"https://r2de2-workshop-vmftiryt6q-ts.a.run.app/usd_thb_conversion_rate\"\n",
        "response = requests.get(url)\n",
        "response.status_code\n",
        "result_conversion_rate = response.json()"
      ],
      "metadata": {
        "id": "TNdTbSycmbXc"
      },
      "execution_count": null,
      "outputs": []
    },
    {
      "cell_type": "code",
      "source": [
        "#result_conversion_rate "
      ],
      "metadata": {
        "id": "goM7xLW0nq5u"
      },
      "execution_count": null,
      "outputs": []
    },
    {
      "cell_type": "markdown",
      "source": [
        "**Convert json to DataFrame**"
      ],
      "metadata": {
        "id": "cbG-VXeboLbi"
      }
    },
    {
      "cell_type": "code",
      "source": [
        "conversion_rate = pd.DataFrame(result_conversion_rate)"
      ],
      "metadata": {
        "id": "eBfGIT731arg"
      },
      "execution_count": null,
      "outputs": []
    },
    {
      "cell_type": "code",
      "source": [
        "conversion_rate"
      ],
      "metadata": {
        "colab": {
          "base_uri": "https://localhost:8080/",
          "height": 423
        },
        "id": "HXOcpkRI1oIG",
        "outputId": "e1f1530d-0420-407e-c88d-9d08d64027ed"
      },
      "execution_count": null,
      "outputs": [
        {
          "output_type": "execute_result",
          "data": {
            "text/plain": [
              "            conversion_rate\n",
              "2021-04-01           31.194\n",
              "2021-04-02           31.290\n",
              "2021-04-03           31.256\n",
              "2021-04-04           31.244\n",
              "2021-04-05           31.342\n",
              "...                     ...\n",
              "2021-08-08           33.395\n",
              "2021-08-09           33.464\n",
              "2021-08-10           33.460\n",
              "2021-08-11           33.145\n",
              "2021-08-12           33.084\n",
              "\n",
              "[134 rows x 1 columns]"
            ],
            "text/html": [
              "\n",
              "  <div id=\"df-91de8ca6-10ae-408a-8e8d-31b33fa9aad9\">\n",
              "    <div class=\"colab-df-container\">\n",
              "      <div>\n",
              "<style scoped>\n",
              "    .dataframe tbody tr th:only-of-type {\n",
              "        vertical-align: middle;\n",
              "    }\n",
              "\n",
              "    .dataframe tbody tr th {\n",
              "        vertical-align: top;\n",
              "    }\n",
              "\n",
              "    .dataframe thead th {\n",
              "        text-align: right;\n",
              "    }\n",
              "</style>\n",
              "<table border=\"1\" class=\"dataframe\">\n",
              "  <thead>\n",
              "    <tr style=\"text-align: right;\">\n",
              "      <th></th>\n",
              "      <th>conversion_rate</th>\n",
              "    </tr>\n",
              "  </thead>\n",
              "  <tbody>\n",
              "    <tr>\n",
              "      <th>2021-04-01</th>\n",
              "      <td>31.194</td>\n",
              "    </tr>\n",
              "    <tr>\n",
              "      <th>2021-04-02</th>\n",
              "      <td>31.290</td>\n",
              "    </tr>\n",
              "    <tr>\n",
              "      <th>2021-04-03</th>\n",
              "      <td>31.256</td>\n",
              "    </tr>\n",
              "    <tr>\n",
              "      <th>2021-04-04</th>\n",
              "      <td>31.244</td>\n",
              "    </tr>\n",
              "    <tr>\n",
              "      <th>2021-04-05</th>\n",
              "      <td>31.342</td>\n",
              "    </tr>\n",
              "    <tr>\n",
              "      <th>...</th>\n",
              "      <td>...</td>\n",
              "    </tr>\n",
              "    <tr>\n",
              "      <th>2021-08-08</th>\n",
              "      <td>33.395</td>\n",
              "    </tr>\n",
              "    <tr>\n",
              "      <th>2021-08-09</th>\n",
              "      <td>33.464</td>\n",
              "    </tr>\n",
              "    <tr>\n",
              "      <th>2021-08-10</th>\n",
              "      <td>33.460</td>\n",
              "    </tr>\n",
              "    <tr>\n",
              "      <th>2021-08-11</th>\n",
              "      <td>33.145</td>\n",
              "    </tr>\n",
              "    <tr>\n",
              "      <th>2021-08-12</th>\n",
              "      <td>33.084</td>\n",
              "    </tr>\n",
              "  </tbody>\n",
              "</table>\n",
              "<p>134 rows × 1 columns</p>\n",
              "</div>\n",
              "      <button class=\"colab-df-convert\" onclick=\"convertToInteractive('df-91de8ca6-10ae-408a-8e8d-31b33fa9aad9')\"\n",
              "              title=\"Convert this dataframe to an interactive table.\"\n",
              "              style=\"display:none;\">\n",
              "        \n",
              "  <svg xmlns=\"http://www.w3.org/2000/svg\" height=\"24px\"viewBox=\"0 0 24 24\"\n",
              "       width=\"24px\">\n",
              "    <path d=\"M0 0h24v24H0V0z\" fill=\"none\"/>\n",
              "    <path d=\"M18.56 5.44l.94 2.06.94-2.06 2.06-.94-2.06-.94-.94-2.06-.94 2.06-2.06.94zm-11 1L8.5 8.5l.94-2.06 2.06-.94-2.06-.94L8.5 2.5l-.94 2.06-2.06.94zm10 10l.94 2.06.94-2.06 2.06-.94-2.06-.94-.94-2.06-.94 2.06-2.06.94z\"/><path d=\"M17.41 7.96l-1.37-1.37c-.4-.4-.92-.59-1.43-.59-.52 0-1.04.2-1.43.59L10.3 9.45l-7.72 7.72c-.78.78-.78 2.05 0 2.83L4 21.41c.39.39.9.59 1.41.59.51 0 1.02-.2 1.41-.59l7.78-7.78 2.81-2.81c.8-.78.8-2.07 0-2.86zM5.41 20L4 18.59l7.72-7.72 1.47 1.35L5.41 20z\"/>\n",
              "  </svg>\n",
              "      </button>\n",
              "      \n",
              "  <style>\n",
              "    .colab-df-container {\n",
              "      display:flex;\n",
              "      flex-wrap:wrap;\n",
              "      gap: 12px;\n",
              "    }\n",
              "\n",
              "    .colab-df-convert {\n",
              "      background-color: #E8F0FE;\n",
              "      border: none;\n",
              "      border-radius: 50%;\n",
              "      cursor: pointer;\n",
              "      display: none;\n",
              "      fill: #1967D2;\n",
              "      height: 32px;\n",
              "      padding: 0 0 0 0;\n",
              "      width: 32px;\n",
              "    }\n",
              "\n",
              "    .colab-df-convert:hover {\n",
              "      background-color: #E2EBFA;\n",
              "      box-shadow: 0px 1px 2px rgba(60, 64, 67, 0.3), 0px 1px 3px 1px rgba(60, 64, 67, 0.15);\n",
              "      fill: #174EA6;\n",
              "    }\n",
              "\n",
              "    [theme=dark] .colab-df-convert {\n",
              "      background-color: #3B4455;\n",
              "      fill: #D2E3FC;\n",
              "    }\n",
              "\n",
              "    [theme=dark] .colab-df-convert:hover {\n",
              "      background-color: #434B5C;\n",
              "      box-shadow: 0px 1px 3px 1px rgba(0, 0, 0, 0.15);\n",
              "      filter: drop-shadow(0px 1px 2px rgba(0, 0, 0, 0.3));\n",
              "      fill: #FFFFFF;\n",
              "    }\n",
              "  </style>\n",
              "\n",
              "      <script>\n",
              "        const buttonEl =\n",
              "          document.querySelector('#df-91de8ca6-10ae-408a-8e8d-31b33fa9aad9 button.colab-df-convert');\n",
              "        buttonEl.style.display =\n",
              "          google.colab.kernel.accessAllowed ? 'block' : 'none';\n",
              "\n",
              "        async function convertToInteractive(key) {\n",
              "          const element = document.querySelector('#df-91de8ca6-10ae-408a-8e8d-31b33fa9aad9');\n",
              "          const dataTable =\n",
              "            await google.colab.kernel.invokeFunction('convertToInteractive',\n",
              "                                                     [key], {});\n",
              "          if (!dataTable) return;\n",
              "\n",
              "          const docLinkHtml = 'Like what you see? Visit the ' +\n",
              "            '<a target=\"_blank\" href=https://colab.research.google.com/notebooks/data_table.ipynb>data table notebook</a>'\n",
              "            + ' to learn more about interactive tables.';\n",
              "          element.innerHTML = '';\n",
              "          dataTable['output_type'] = 'display_data';\n",
              "          await google.colab.output.renderOutput(dataTable, element);\n",
              "          const docLink = document.createElement('div');\n",
              "          docLink.innerHTML = docLinkHtml;\n",
              "          element.appendChild(docLink);\n",
              "        }\n",
              "      </script>\n",
              "    </div>\n",
              "  </div>\n",
              "  "
            ]
          },
          "metadata": {},
          "execution_count": 37
        }
      ]
    },
    {
      "cell_type": "markdown",
      "source": [
        "**Reset index and rename**"
      ],
      "metadata": {
        "id": "99vw2tDCoLVl"
      }
    },
    {
      "cell_type": "code",
      "source": [
        "conversion_rate = conversion_rate.reset_index().rename(columns={\"index\":\"date\"})\n",
        "conversion_rate[:3] "
      ],
      "metadata": {
        "colab": {
          "base_uri": "https://localhost:8080/",
          "height": 143
        },
        "id": "OANw9jpw6MYH",
        "outputId": "de794f09-8748-40c8-d4d9-a32e2d8faba8"
      },
      "execution_count": null,
      "outputs": [
        {
          "output_type": "execute_result",
          "data": {
            "text/plain": [
              "         date  conversion_rate\n",
              "0  2021-04-01           31.194\n",
              "1  2021-04-02           31.290\n",
              "2  2021-04-03           31.256"
            ],
            "text/html": [
              "\n",
              "  <div id=\"df-2ee26406-b25f-4480-a161-46c81169e13f\">\n",
              "    <div class=\"colab-df-container\">\n",
              "      <div>\n",
              "<style scoped>\n",
              "    .dataframe tbody tr th:only-of-type {\n",
              "        vertical-align: middle;\n",
              "    }\n",
              "\n",
              "    .dataframe tbody tr th {\n",
              "        vertical-align: top;\n",
              "    }\n",
              "\n",
              "    .dataframe thead th {\n",
              "        text-align: right;\n",
              "    }\n",
              "</style>\n",
              "<table border=\"1\" class=\"dataframe\">\n",
              "  <thead>\n",
              "    <tr style=\"text-align: right;\">\n",
              "      <th></th>\n",
              "      <th>date</th>\n",
              "      <th>conversion_rate</th>\n",
              "    </tr>\n",
              "  </thead>\n",
              "  <tbody>\n",
              "    <tr>\n",
              "      <th>0</th>\n",
              "      <td>2021-04-01</td>\n",
              "      <td>31.194</td>\n",
              "    </tr>\n",
              "    <tr>\n",
              "      <th>1</th>\n",
              "      <td>2021-04-02</td>\n",
              "      <td>31.290</td>\n",
              "    </tr>\n",
              "    <tr>\n",
              "      <th>2</th>\n",
              "      <td>2021-04-03</td>\n",
              "      <td>31.256</td>\n",
              "    </tr>\n",
              "  </tbody>\n",
              "</table>\n",
              "</div>\n",
              "      <button class=\"colab-df-convert\" onclick=\"convertToInteractive('df-2ee26406-b25f-4480-a161-46c81169e13f')\"\n",
              "              title=\"Convert this dataframe to an interactive table.\"\n",
              "              style=\"display:none;\">\n",
              "        \n",
              "  <svg xmlns=\"http://www.w3.org/2000/svg\" height=\"24px\"viewBox=\"0 0 24 24\"\n",
              "       width=\"24px\">\n",
              "    <path d=\"M0 0h24v24H0V0z\" fill=\"none\"/>\n",
              "    <path d=\"M18.56 5.44l.94 2.06.94-2.06 2.06-.94-2.06-.94-.94-2.06-.94 2.06-2.06.94zm-11 1L8.5 8.5l.94-2.06 2.06-.94-2.06-.94L8.5 2.5l-.94 2.06-2.06.94zm10 10l.94 2.06.94-2.06 2.06-.94-2.06-.94-.94-2.06-.94 2.06-2.06.94z\"/><path d=\"M17.41 7.96l-1.37-1.37c-.4-.4-.92-.59-1.43-.59-.52 0-1.04.2-1.43.59L10.3 9.45l-7.72 7.72c-.78.78-.78 2.05 0 2.83L4 21.41c.39.39.9.59 1.41.59.51 0 1.02-.2 1.41-.59l7.78-7.78 2.81-2.81c.8-.78.8-2.07 0-2.86zM5.41 20L4 18.59l7.72-7.72 1.47 1.35L5.41 20z\"/>\n",
              "  </svg>\n",
              "      </button>\n",
              "      \n",
              "  <style>\n",
              "    .colab-df-container {\n",
              "      display:flex;\n",
              "      flex-wrap:wrap;\n",
              "      gap: 12px;\n",
              "    }\n",
              "\n",
              "    .colab-df-convert {\n",
              "      background-color: #E8F0FE;\n",
              "      border: none;\n",
              "      border-radius: 50%;\n",
              "      cursor: pointer;\n",
              "      display: none;\n",
              "      fill: #1967D2;\n",
              "      height: 32px;\n",
              "      padding: 0 0 0 0;\n",
              "      width: 32px;\n",
              "    }\n",
              "\n",
              "    .colab-df-convert:hover {\n",
              "      background-color: #E2EBFA;\n",
              "      box-shadow: 0px 1px 2px rgba(60, 64, 67, 0.3), 0px 1px 3px 1px rgba(60, 64, 67, 0.15);\n",
              "      fill: #174EA6;\n",
              "    }\n",
              "\n",
              "    [theme=dark] .colab-df-convert {\n",
              "      background-color: #3B4455;\n",
              "      fill: #D2E3FC;\n",
              "    }\n",
              "\n",
              "    [theme=dark] .colab-df-convert:hover {\n",
              "      background-color: #434B5C;\n",
              "      box-shadow: 0px 1px 3px 1px rgba(0, 0, 0, 0.15);\n",
              "      filter: drop-shadow(0px 1px 2px rgba(0, 0, 0, 0.3));\n",
              "      fill: #FFFFFF;\n",
              "    }\n",
              "  </style>\n",
              "\n",
              "      <script>\n",
              "        const buttonEl =\n",
              "          document.querySelector('#df-2ee26406-b25f-4480-a161-46c81169e13f button.colab-df-convert');\n",
              "        buttonEl.style.display =\n",
              "          google.colab.kernel.accessAllowed ? 'block' : 'none';\n",
              "\n",
              "        async function convertToInteractive(key) {\n",
              "          const element = document.querySelector('#df-2ee26406-b25f-4480-a161-46c81169e13f');\n",
              "          const dataTable =\n",
              "            await google.colab.kernel.invokeFunction('convertToInteractive',\n",
              "                                                     [key], {});\n",
              "          if (!dataTable) return;\n",
              "\n",
              "          const docLinkHtml = 'Like what you see? Visit the ' +\n",
              "            '<a target=\"_blank\" href=https://colab.research.google.com/notebooks/data_table.ipynb>data table notebook</a>'\n",
              "            + ' to learn more about interactive tables.';\n",
              "          element.innerHTML = '';\n",
              "          dataTable['output_type'] = 'display_data';\n",
              "          await google.colab.output.renderOutput(dataTable, element);\n",
              "          const docLink = document.createElement('div');\n",
              "          docLink.innerHTML = docLinkHtml;\n",
              "          element.appendChild(docLink);\n",
              "        }\n",
              "      </script>\n",
              "    </div>\n",
              "  </div>\n",
              "  "
            ]
          },
          "metadata": {},
          "execution_count": 38
        }
      ]
    },
    {
      "cell_type": "markdown",
      "source": [
        "#Join transaction from MySQL database and conversion rate from REST API"
      ],
      "metadata": {
        "id": "DXOAIzmJ9PO-"
      }
    },
    {
      "cell_type": "code",
      "metadata": {
        "id": "3mLbBR-e17Js"
      },
      "source": [
        "#transaction"
      ],
      "execution_count": null,
      "outputs": []
    },
    {
      "cell_type": "code",
      "source": [
        "#copy timestamp column then change timestamp column name to date column name\n",
        "transaction['date'] = transaction['timestamp']\n",
        "transaction.head(3)"
      ],
      "metadata": {
        "id": "OdX4ZwAH_FAp"
      },
      "execution_count": null,
      "outputs": []
    },
    {
      "cell_type": "code",
      "source": [
        "#convert timestamp to date in both transaction and conversion_rate \n",
        "transaction['date'] = pd.to_datetime(transaction['date']).dt.date\n",
        "conversion_rate['date'] = pd.to_datetime(conversion_rate['date']).dt.date"
      ],
      "metadata": {
        "id": "oUt2cLPKBy1p"
      },
      "execution_count": null,
      "outputs": []
    },
    {
      "cell_type": "code",
      "source": [
        "#merge transaction and conversion_rate date by left join with date key\n",
        "final_df = transaction.merge(conversion_rate, how=\"left\", left_on=\"date\", right_on=\"date\")\n",
        "final_df.head(3)"
      ],
      "metadata": {
        "id": "WX9ZDbX-QeRb"
      },
      "execution_count": null,
      "outputs": []
    },
    {
      "cell_type": "code",
      "source": [
        "final_df[\"Price\"] = final_df.apply(lambda x: x[\"Price\"].replace(\"$\",\" \"), axis=1 )\n",
        "final_df[\"Price\"] = final_df[\"Price\"].astype(float)"
      ],
      "metadata": {
        "id": "NZA3Ovz0RdKL"
      },
      "execution_count": null,
      "outputs": []
    },
    {
      "cell_type": "code",
      "source": [
        "final_df.head(3)"
      ],
      "metadata": {
        "id": "uvfhZjmvQfyj"
      },
      "execution_count": null,
      "outputs": []
    },
    {
      "cell_type": "code",
      "source": [
        "final_df[\"THBPrice\"] = final_df[\"Price\"]*final_df[\"conversion_rate\"]\n",
        "final_df"
      ],
      "metadata": {
        "id": "eepdwCn6YVrM"
      },
      "execution_count": null,
      "outputs": []
    },
    {
      "cell_type": "code",
      "source": [
        "#another solution\n",
        "def convert_rate(price, rate):\n",
        "  return price * rate\n",
        "##.apply()\n",
        "final_df[\"THBPrice\"] = final_df.apply(lambda x: convert_rate(x[\"Price\"],x[\"conversion_rate\"]),axis=1)"
      ],
      "metadata": {
        "id": "QVqumhI0ZJje"
      },
      "execution_count": null,
      "outputs": []
    },
    {
      "cell_type": "code",
      "source": [
        "final_df[\"THBPrice\"].head()"
      ],
      "metadata": {
        "colab": {
          "base_uri": "https://localhost:8080/"
        },
        "id": "totsjVfxcHYt",
        "outputId": "65aac94d-6c89-4fb9-a865-935f6c9318c8"
      },
      "execution_count": null,
      "outputs": [
        {
          "output_type": "execute_result",
          "data": {
            "text/plain": [
              "0    1089.9000\n",
              "1     610.0326\n",
              "2     980.9100\n",
              "3     621.2430\n",
              "4     544.6386\n",
              "Name: THBPrice, dtype: float64"
            ]
          },
          "metadata": {},
          "execution_count": 56
        }
      ]
    },
    {
      "cell_type": "code",
      "source": [
        "#another solution\n",
        "def convert_rate(price, rate):\n",
        "  return price * rate\n",
        "  \n",
        "final_df[\"THBPrice\"] = final_df.apply(lambda x: x[\"Price\"] * x[\"conversion_rate\"] ,axis=1)\n",
        "final_df[\"THBPrice\"].head()"
      ],
      "metadata": {
        "colab": {
          "base_uri": "https://localhost:8080/"
        },
        "id": "bU_N5XRzcTBc",
        "outputId": "f57d84c0-5322-4ce5-b966-c1aa325f16db"
      },
      "execution_count": null,
      "outputs": [
        {
          "output_type": "execute_result",
          "data": {
            "text/plain": [
              "0    1089.9000\n",
              "1     610.0326\n",
              "2     980.9100\n",
              "3     621.2430\n",
              "4     544.6386\n",
              "Name: THBPrice, dtype: float64"
            ]
          },
          "metadata": {},
          "execution_count": 57
        }
      ]
    },
    {
      "cell_type": "code",
      "source": [
        "final_df = final_df.drop(\"date\", axis=1)\n",
        "final_df.head(3)"
      ],
      "metadata": {
        "id": "vu6uCQK9eUZM"
      },
      "execution_count": null,
      "outputs": []
    },
    {
      "cell_type": "markdown",
      "source": [
        "#Export data to csv file"
      ],
      "metadata": {
        "id": "r7jhXUBlej2t"
      }
    },
    {
      "cell_type": "code",
      "source": [
        "final_df.to_csv(\"output.csv\",index=False)"
      ],
      "metadata": {
        "colab": {
          "base_uri": "https://localhost:8080/",
          "height": 166
        },
        "id": "RhDt30U2esLm",
        "outputId": "02cd626f-52ce-464f-b9ab-a0b1ae1ba98d"
      },
      "execution_count": null,
      "outputs": [
        {
          "output_type": "error",
          "ename": "NameError",
          "evalue": "ignored",
          "traceback": [
            "\u001b[0;31m---------------------------------------------------------------------------\u001b[0m",
            "\u001b[0;31mNameError\u001b[0m                                 Traceback (most recent call last)",
            "\u001b[0;32m<ipython-input-1-72259ad8e01d>\u001b[0m in \u001b[0;36m<module>\u001b[0;34m\u001b[0m\n\u001b[0;32m----> 1\u001b[0;31m \u001b[0mfinal_df\u001b[0m\u001b[0;34m.\u001b[0m\u001b[0mto_csv\u001b[0m\u001b[0;34m(\u001b[0m\u001b[0;34m\"output.csv\"\u001b[0m\u001b[0;34m,\u001b[0m\u001b[0mindex\u001b[0m\u001b[0;34m=\u001b[0m\u001b[0;32mFalse\u001b[0m\u001b[0;34m)\u001b[0m\u001b[0;34m\u001b[0m\u001b[0;34m\u001b[0m\u001b[0m\n\u001b[0m",
            "\u001b[0;31mNameError\u001b[0m: name 'final_df' is not defined"
          ]
        }
      ]
    },
    {
      "cell_type": "code",
      "source": [
        "%%writefile .env   \n",
        "MYSQL_HOST='localhost'\n",
        "MYSQL_PORT= 3306\n",
        "MYSQL_USER = 'root'\n",
        "MYSQL_PASSWORD = 'root'\n",
        "MYSQL_DB = 'MyDEProject'\n",
        "MYSQL_CHARSET = 'utf8mb4'"
      ],
      "metadata": {
        "id": "Bs3jFzEXCfGG"
      },
      "execution_count": null,
      "outputs": []
    }
  ]
}